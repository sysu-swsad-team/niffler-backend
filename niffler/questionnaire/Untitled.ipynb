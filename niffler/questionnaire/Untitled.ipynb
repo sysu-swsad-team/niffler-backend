{
 "cells": [
  {
   "cell_type": "code",
   "execution_count": 1,
   "metadata": {},
   "outputs": [],
   "source": [
    "def a():\n",
    "    \"\"\"\n",
    "    description: This API deletes/uninstalls a device.\n",
    "    parameters:\n",
    "      - name: name\n",
    "        type: string\n",
    "        required: true\n",
    "        location: form\n",
    "      - name: bloodgroup\n",
    "        type: string\n",
    "        required: true\n",
    "        location: form\n",
    "      - name: birthmark\n",
    "        type: string\n",
    "        required: true\n",
    "        location: form\n",
    "    \"\"\"\n",
    "    return 1"
   ]
  },
  {
   "cell_type": "code",
   "execution_count": 3,
   "metadata": {},
   "outputs": [
    {
     "name": "stdout",
     "output_type": "stream",
     "text": [
      "\n",
      "    description: This API deletes/uninstalls a device.\n",
      "    parameters:\n",
      "      - name: name\n",
      "        type: string\n",
      "        required: true\n",
      "        location: form\n",
      "      - name: bloodgroup\n",
      "        type: string\n",
      "        required: true\n",
      "        location: form\n",
      "      - name: birthmark\n",
      "        type: string\n",
      "        required: true\n",
      "        location: form\n",
      "    \n"
     ]
    }
   ],
   "source": [
    "print(a.__doc__)"
   ]
  },
  {
   "cell_type": "code",
   "execution_count": 4,
   "metadata": {},
   "outputs": [],
   "source": [
    "import yaml"
   ]
  },
  {
   "cell_type": "code",
   "execution_count": 5,
   "metadata": {},
   "outputs": [
    {
     "name": "stderr",
     "output_type": "stream",
     "text": [
      "/usr/local/python3/lib/python3.7/site-packages/ipykernel_launcher.py:1: YAMLLoadWarning: calling yaml.load() without Loader=... is deprecated, as the default Loader is unsafe. Please read https://msg.pyyaml.org/load for full details.\n",
      "  \"\"\"Entry point for launching an IPython kernel.\n"
     ]
    }
   ],
   "source": [
    "yaml_doc = yaml.load(a.__doc__)"
   ]
  },
  {
   "cell_type": "code",
   "execution_count": 6,
   "metadata": {},
   "outputs": [
    {
     "data": {
      "text/plain": [
       "{'description': 'This API deletes/uninstalls a device.',\n",
       " 'parameters': [{'name': 'name',\n",
       "   'type': 'string',\n",
       "   'required': True,\n",
       "   'location': 'form'},\n",
       "  {'name': 'bloodgroup',\n",
       "   'type': 'string',\n",
       "   'required': True,\n",
       "   'location': 'form'},\n",
       "  {'name': 'birthmark',\n",
       "   'type': 'string',\n",
       "   'required': True,\n",
       "   'location': 'form'}]}"
      ]
     },
     "execution_count": 6,
     "metadata": {},
     "output_type": "execute_result"
    }
   ],
   "source": [
    "yaml_doc"
   ]
  },
  {
   "cell_type": "code",
   "execution_count": 8,
   "metadata": {},
   "outputs": [
    {
     "data": {
      "text/plain": [
       "'This API deletes/uninstalls a device.'"
      ]
     },
     "execution_count": 8,
     "metadata": {},
     "output_type": "execute_result"
    }
   ],
   "source": [
    "yaml_doc.get('description', '')"
   ]
  },
  {
   "cell_type": "code",
   "execution_count": 11,
   "metadata": {},
   "outputs": [
    {
     "data": {
      "text/plain": [
       "'\\n    description: This API deletes/uninstalls a device.\\n    parameters:\\n      - name: name\\n        type: string\\n        required: true\\n        location: form\\n      - name: bloodgroup\\n        type: string\\n        required: true\\n        location: form\\n      - name: birthmark\\n        type: string\\n        required: true\\n        location: form\\n    '"
      ]
     },
     "execution_count": 11,
     "metadata": {},
     "output_type": "execute_result"
    }
   ],
   "source": [
    "a.__doc__.split('---')[0]"
   ]
  },
  {
   "cell_type": "code",
   "execution_count": 12,
   "metadata": {},
   "outputs": [],
   "source": [
    "import coreapi"
   ]
  },
  {
   "cell_type": "code",
   "execution_count": 13,
   "metadata": {
    "scrolled": false
   },
   "outputs": [
    {
     "name": "stdout",
     "output_type": "stream",
     "text": [
      "Help on class Field in module coreapi.document:\n",
      "\n",
      "class Field(builtins.tuple)\n",
      " |  Field(name, required=False, location='', schema=None, description=None, type=None, example=None)\n",
      " |  \n",
      " |  Field(name, required, location, schema, description, type, example)\n",
      " |  \n",
      " |  Method resolution order:\n",
      " |      Field\n",
      " |      builtins.tuple\n",
      " |      builtins.object\n",
      " |  \n",
      " |  Methods defined here:\n",
      " |  \n",
      " |  __getnewargs__(self)\n",
      " |      Return self as a plain tuple.  Used by copy and pickle.\n",
      " |  \n",
      " |  __repr__(self)\n",
      " |      Return a nicely formatted representation string\n",
      " |  \n",
      " |  _asdict(self)\n",
      " |      Return a new OrderedDict which maps field names to their values.\n",
      " |  \n",
      " |  _replace(_self, **kwds)\n",
      " |      Return a new Field object replacing specified fields with new values\n",
      " |  \n",
      " |  ----------------------------------------------------------------------\n",
      " |  Class methods defined here:\n",
      " |  \n",
      " |  _make(iterable) from builtins.type\n",
      " |      Make a new Field object from a sequence or iterable\n",
      " |  \n",
      " |  ----------------------------------------------------------------------\n",
      " |  Static methods defined here:\n",
      " |  \n",
      " |  __new__(_cls, name, required=False, location='', schema=None, description=None, type=None, example=None)\n",
      " |      Create new instance of Field(name, required, location, schema, description, type, example)\n",
      " |  \n",
      " |  ----------------------------------------------------------------------\n",
      " |  Data descriptors defined here:\n",
      " |  \n",
      " |  name\n",
      " |      Alias for field number 0\n",
      " |  \n",
      " |  required\n",
      " |      Alias for field number 1\n",
      " |  \n",
      " |  location\n",
      " |      Alias for field number 2\n",
      " |  \n",
      " |  schema\n",
      " |      Alias for field number 3\n",
      " |  \n",
      " |  description\n",
      " |      Alias for field number 4\n",
      " |  \n",
      " |  type\n",
      " |      Alias for field number 5\n",
      " |  \n",
      " |  example\n",
      " |      Alias for field number 6\n",
      " |  \n",
      " |  ----------------------------------------------------------------------\n",
      " |  Data and other attributes defined here:\n",
      " |  \n",
      " |  _fields = ('name', 'required', 'location', 'schema', 'description', 't...\n",
      " |  \n",
      " |  _fields_defaults = {}\n",
      " |  \n",
      " |  ----------------------------------------------------------------------\n",
      " |  Methods inherited from builtins.tuple:\n",
      " |  \n",
      " |  __add__(self, value, /)\n",
      " |      Return self+value.\n",
      " |  \n",
      " |  __contains__(self, key, /)\n",
      " |      Return key in self.\n",
      " |  \n",
      " |  __eq__(self, value, /)\n",
      " |      Return self==value.\n",
      " |  \n",
      " |  __ge__(self, value, /)\n",
      " |      Return self>=value.\n",
      " |  \n",
      " |  __getattribute__(self, name, /)\n",
      " |      Return getattr(self, name).\n",
      " |  \n",
      " |  __getitem__(self, key, /)\n",
      " |      Return self[key].\n",
      " |  \n",
      " |  __gt__(self, value, /)\n",
      " |      Return self>value.\n",
      " |  \n",
      " |  __hash__(self, /)\n",
      " |      Return hash(self).\n",
      " |  \n",
      " |  __iter__(self, /)\n",
      " |      Implement iter(self).\n",
      " |  \n",
      " |  __le__(self, value, /)\n",
      " |      Return self<=value.\n",
      " |  \n",
      " |  __len__(self, /)\n",
      " |      Return len(self).\n",
      " |  \n",
      " |  __lt__(self, value, /)\n",
      " |      Return self<value.\n",
      " |  \n",
      " |  __mul__(self, value, /)\n",
      " |      Return self*value.\n",
      " |  \n",
      " |  __ne__(self, value, /)\n",
      " |      Return self!=value.\n",
      " |  \n",
      " |  __rmul__(self, value, /)\n",
      " |      Return value*self.\n",
      " |  \n",
      " |  count(self, value, /)\n",
      " |      Return number of occurrences of value.\n",
      " |  \n",
      " |  index(self, value, start=0, stop=9223372036854775807, /)\n",
      " |      Return first index of value.\n",
      " |      \n",
      " |      Raises ValueError if the value is not present.\n",
      "\n"
     ]
    }
   ],
   "source": [
    "help(coreapi.Field)"
   ]
  },
  {
   "cell_type": "code",
   "execution_count": 23,
   "metadata": {},
   "outputs": [
    {
     "name": "stdout",
     "output_type": "stream",
     "text": [
      "当前用户非发布者\n"
     ]
    }
   ],
   "source": [
    "try:\n",
    "    assert 1!=1, '当前用户非发布者'\n",
    "    assert 2!=2, '非进行中的任务'\n",
    "except AssertionError as e:\n",
    "    print(str(e))"
   ]
  }
 ],
 "metadata": {
  "kernelspec": {
   "display_name": "Python 3",
   "language": "python",
   "name": "python3"
  },
  "language_info": {
   "codemirror_mode": {
    "name": "ipython",
    "version": 3
   },
   "file_extension": ".py",
   "mimetype": "text/x-python",
   "name": "python",
   "nbconvert_exporter": "python",
   "pygments_lexer": "ipython3",
   "version": "3.7.0"
  }
 },
 "nbformat": 4,
 "nbformat_minor": 2
}
